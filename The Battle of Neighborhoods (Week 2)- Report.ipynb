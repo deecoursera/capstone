{
    "cells": [
        {
            "cell_type": "markdown",
            "metadata": {
                "collapsed": true
            },
            "source": "# Description of Problem and Background"
        },
        {
            "cell_type": "markdown",
            "metadata": {},
            "source": "San Francisco is one of the most vibrant cities  and also one of the most popular destinations in the world. What makes it unique is the beautiful mix of nature and city where people who live there as well as visit have so much to explore. For this submission, I would like to focus on San Francisco city\u2019s city parks in order to determine where one would open a dog walking business in the city.\n\nAn in depth study of the parks in various neighborhoods of the city will be done based on the current data found online and if there are current dog walking businesses in those areas. I think it would be an interesting study to understand how far residents currently go to walk their dogs and based on the research, data like how far of an area the business would need to cover to get customers."
        },
        {
            "cell_type": "markdown",
            "metadata": {},
            "source": "# Data Description and Problem Solving"
        },
        {
            "cell_type": "markdown",
            "metadata": {},
            "source": "In order to determine a list of the parks in the city of San Francisco, we will explore a list of of available parks.The steps of data preparation are as follows:\n    1. Scrape data from available links online with the city park list\n    2. Use the libraries such as geopy to ontain coordinates (latitude, longitude) of the parks\n    3. Use the foursquare API to find all available businesses in those areas and narrow it down to other pet businesses\n    4. Group the pet related businesses into categories\n    5. Explore the competition that directly relates to dogwalking"
        },
        {
            "cell_type": "markdown",
            "metadata": {},
            "source": "### Data Scraping and Cleanup"
        },
        {
            "cell_type": "markdown",
            "metadata": {},
            "source": "In this section we are using the Wikipedia page with information on the parks in San Francisco and create a dataframe. e will be importing libraries in order to create the dataframe that shows us the list of the parks."
        },
        {
            "cell_type": "code",
            "execution_count": null,
            "metadata": {},
            "outputs": [],
            "source": "url = \"https://en.wikipedia.org/wiki/List_of_parks_in_San_Francisco#City\"\n#html = urlopen(url)\nreq = urllib.request.Request(url, headers={'User-Agent' : \"Magic Browser\"}) \nhtml = urllib.request.urlopen( req )\n\nsoup = BeautifulSoup(html, 'html.parser')\ntype(soup)\n\ntext = soup.get_text()\nprint(soup.text)"
        },
        {
            "cell_type": "markdown",
            "metadata": {},
            "source": "As shown in the notebook, this will create a dataframe of the list of parks."
        },
        {
            "cell_type": "markdown",
            "metadata": {},
            "source": "### Find the latitude and longitude of the parks"
        },
        {
            "cell_type": "markdown",
            "metadata": {},
            "source": "We then proceed to find the coordinated of the parking using Georpy as follows and this generated a list of the parks as well as their latitude and longitude"
        },
        {
            "cell_type": "code",
            "execution_count": null,
            "metadata": {},
            "outputs": [],
            "source": "from geopy.geocoders import Nominatim\ngeolocator = Nominatim(user_agent=\"sf_explorer\")\n\nlat = []\nlong = []\n\nfor address in sf_parks['Parks']:\n    try:\n        location = geolocator.geocode(address + ', sf', timeout = None)\n        lat.append(location.latitude)\n        long.append(location.longitude)\n    except AttributeError:\n        lat.append(0)\n        long.append(0)\n    \nsf_parks['Latitude'] = lat\nsf_parks['Longitude'] = long"
        },
        {
            "cell_type": "markdown",
            "metadata": {},
            "source": "Using this data, we were then able to create a folium map for the parks in order to visualise the parks around San Francisco"
        },
        {
            "cell_type": "markdown",
            "metadata": {},
            "source": "### Using Foursquare API to explore Nearby Venues"
        },
        {
            "cell_type": "markdown",
            "metadata": {},
            "source": "I used the Fourquare API process to bring up venues around these park locations. It provided information about venues and other information relevant to the venues. I wanted to see how many venues would show up and the results were very useful. THe code was added to show 100 popular venues within a 500m radius. The dataframe was obtained. I wanted to focus on pet or dog related businesses in the area and so I was able to create a dataframe showing any venues related to pet or dog businesses"
        },
        {
            "cell_type": "markdown",
            "metadata": {},
            "source": "# Data Analysis and Results"
        },
        {
            "cell_type": "markdown",
            "metadata": {},
            "source": "So far, the data obtaines for the parks in the city of San Francisco along with the geospatial information and the corresponding venues around each park has gathered very interesting information. As seen in the notebook, there were two dog related businesses in total around all parks. One was the B and B pet store in Sutro District and the other was Yap, a pet store in Aquatic Park. It is very relevant to the research because there is a lot of scope to open a dog walking business in these areas with more focus on the areas near the existing pet stores. I did some further analysis on the common venue categories and frequency of the categories using groupby and frequency to obtain more details.  "
        },
        {
            "cell_type": "markdown",
            "metadata": {},
            "source": "# Discussion and Conclusion"
        },
        {
            "cell_type": "markdown",
            "metadata": {},
            "source": "Based on the results obtained, here are several areas that can be targeted to begin a business in dog walking around these parks. he reas to first focus on will be Sutro District and Aquatic Park. Considering the other venues in this area, there are various avenues to take on the type of dog walking business and offerings in these areas. By using these research tools, libraries and Foursquare API, data was analyzed and some interesting facts were observed. I would definitely focus my efforts on a business in these areas surrounding the park. Please review my notebook for the analysis done. "
        },
        {
            "cell_type": "code",
            "execution_count": null,
            "metadata": {},
            "outputs": [],
            "source": ""
        }
    ],
    "metadata": {
        "kernelspec": {
            "display_name": "Python 3.6",
            "language": "python",
            "name": "python3"
        },
        "language_info": {
            "codemirror_mode": {
                "name": "ipython",
                "version": 3
            },
            "file_extension": ".py",
            "mimetype": "text/x-python",
            "name": "python",
            "nbconvert_exporter": "python",
            "pygments_lexer": "ipython3",
            "version": "3.6.9"
        }
    },
    "nbformat": 4,
    "nbformat_minor": 1
}